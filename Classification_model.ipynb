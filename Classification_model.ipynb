{
  "nbformat": 4,
  "nbformat_minor": 0,
  "metadata": {
    "colab": {
      "name": "mr_cooper.ipynb",
      "provenance": [],
      "collapsed_sections": [],
      "authorship_tag": "ABX9TyMBK6hXxeJ65UBebJ46UrcM",
      "include_colab_link": true
    },
    "kernelspec": {
      "name": "python3",
      "display_name": "Python 3"
    },
    "language_info": {
      "name": "python"
    },
    "accelerator": "GPU"
  },
  "cells": [
    {
      "cell_type": "markdown",
      "metadata": {
        "id": "view-in-github",
        "colab_type": "text"
      },
      "source": [
        "<a href=\"https://colab.research.google.com/github/vaishnovrg/Topic_classification_prediction_service/blob/main/Classification_model.ipynb\" target=\"_parent\"><img src=\"https://colab.research.google.com/assets/colab-badge.svg\" alt=\"Open In Colab\"/></a>"
      ]
    },
    {
      "cell_type": "code",
      "metadata": {
        "colab": {
          "base_uri": "https://localhost:8080/"
        },
        "id": "0TPMge5QWSHu",
        "outputId": "dcd4ed2b-b646-45e8-abd7-f77877fd72ee"
      },
      "source": [
        "!pip install nltk\n",
        "!pip install sklearn"
      ],
      "execution_count": 1,
      "outputs": [
        {
          "output_type": "stream",
          "name": "stdout",
          "text": [
            "Requirement already satisfied: nltk in /usr/local/lib/python3.7/dist-packages (3.2.5)\n",
            "Requirement already satisfied: six in /usr/local/lib/python3.7/dist-packages (from nltk) (1.15.0)\n",
            "Requirement already satisfied: sklearn in /usr/local/lib/python3.7/dist-packages (0.0)\n",
            "Requirement already satisfied: scikit-learn in /usr/local/lib/python3.7/dist-packages (from sklearn) (1.0.1)\n",
            "Requirement already satisfied: numpy>=1.14.6 in /usr/local/lib/python3.7/dist-packages (from scikit-learn->sklearn) (1.19.5)\n",
            "Requirement already satisfied: scipy>=1.1.0 in /usr/local/lib/python3.7/dist-packages (from scikit-learn->sklearn) (1.4.1)\n",
            "Requirement already satisfied: threadpoolctl>=2.0.0 in /usr/local/lib/python3.7/dist-packages (from scikit-learn->sklearn) (3.0.0)\n",
            "Requirement already satisfied: joblib>=0.11 in /usr/local/lib/python3.7/dist-packages (from scikit-learn->sklearn) (1.1.0)\n"
          ]
        }
      ]
    },
    {
      "cell_type": "code",
      "metadata": {
        "id": "2qV5_r4_XM7p"
      },
      "source": [
        "import csv\n",
        "reviews = [row for row in csv.reader(open('Context.csv'))]"
      ],
      "execution_count": 2,
      "outputs": []
    },
    {
      "cell_type": "code",
      "metadata": {
        "colab": {
          "base_uri": "https://localhost:8080/",
          "height": 534
        },
        "id": "dN8A9vSUo1_S",
        "outputId": "f5b81fce-e051-45ff-f22e-a0206b92ff0b"
      },
      "source": [
        "# bar chart plot of a categorical variable\n",
        "from pandas import read_csv\n",
        "from seaborn import countplot\n",
        "from matplotlib import pyplot\n",
        "# load the dataset\n",
        "# import the seaborn library\n",
        "import seaborn as sns\n",
        "\n",
        "# import done to avoid warnings\n",
        "from warnings import filterwarnings\n",
        "\n",
        "# reading the dataset\n",
        "df = read_csv('Context.csv')\n",
        "\n",
        "# first five entries if the dataset\n",
        "df.head()\n",
        "\n",
        "#dataset = read_csv('Context.csv', header=None)\n",
        "sns.set(rc={'figure.figsize':(11.7,8.27)})\n",
        "sns.countplot(x ='Context/Topic', data = df)"
      ],
      "execution_count": 3,
      "outputs": [
        {
          "output_type": "execute_result",
          "data": {
            "text/plain": [
              "<matplotlib.axes._subplots.AxesSubplot at 0x7f67d5eb5d90>"
            ]
          },
          "metadata": {},
          "execution_count": 3
        },
        {
          "output_type": "display_data",
          "data": {
            "image/png": "[encoded data removed]",
            "text/plain": [
              "<Figure size 842.4x595.44 with 1 Axes>"
            ]
          },
          "metadata": {}
        }
      ]
    },
    {
      "cell_type": "code",
      "metadata": {
        "colab": {
          "base_uri": "https://localhost:8080/"
        },
        "id": "HR4ZYXBxXayC",
        "outputId": "0e66cdf8-233f-4462-b6e0-f352e13007a4"
      },
      "source": [
        "import re\n",
        "import nltk\n",
        "\n",
        "# We need this dataset in order to use the tokenizer\n",
        "nltk.download('punkt')\n",
        "from nltk.tokenize import word_tokenize\n",
        "\n",
        "# Also download the list of stopwords to filter out\n",
        "nltk.download('stopwords')\n",
        "from nltk.corpus import stopwords\n",
        "\n",
        "from nltk.stem.porter import PorterStemmer\n",
        "from nltk.stem import WordNetLemmatizer\n",
        "nltk.download('wordnet')\n",
        "lemmatizer = WordNetLemmatizer()\n",
        "stemmer = PorterStemmer()\n",
        "\n",
        "def process_text(text):\n",
        "    # Make all the strings lowercase and remove non alphabetic characters\n",
        "    text = re.sub('[^A-Za-z]', ' ', text.lower())\n",
        "\n",
        "    # Tokenize the text; this is, separate every sentence into a list of words\n",
        "    # Since the text is already split into sentences you don't have to call sent_tokenize\n",
        "    tokenized_text = word_tokenize(text)\n",
        "\n",
        "    # Remove the stopwords and stem each word to its root\n",
        "    clean_text = [\n",
        "        lemmatizer.lemmatize(word) for word in tokenized_text\n",
        "        if word not in stopwords.words('english')\n",
        "    ]\n",
        "\n",
        "    # Remember, this final output is a list of words\n",
        "    return clean_text"
      ],
      "execution_count": 4,
      "outputs": [
        {
          "output_type": "stream",
          "name": "stdout",
          "text": [
            "[nltk_data] Downloading package punkt to /root/nltk_data...\n",
            "[nltk_data]   Unzipping tokenizers/punkt.zip.\n",
            "[nltk_data] Downloading package stopwords to /root/nltk_data...\n",
            "[nltk_data]   Unzipping corpora/stopwords.zip.\n",
            "[nltk_data] Downloading package wordnet to /root/nltk_data...\n",
            "[nltk_data]   Unzipping corpora/wordnet.zip.\n"
          ]
        }
      ]
    },
    {
      "cell_type": "code",
      "metadata": {
        "id": "3ricVzaoXvPd"
      },
      "source": [
        "# Remove the first row, since it only has the labels\n",
        "reviews = reviews[1:]\n",
        "\n",
        "texts = [row[0] for row in reviews]\n",
        "topics = [row[1] for row in reviews]\n",
        "\n",
        "# Process the texts to so they are ready for training\n",
        "# But transform the list of words back to string format to feed it to sklearn\n",
        "#nltk.download()\n",
        "texts = [\" \".join(process_text(text)) for text in texts]"
      ],
      "execution_count": 5,
      "outputs": []
    },
    {
      "cell_type": "code",
      "metadata": {
        "id": "4eDzm_1kYCZK"
      },
      "source": [
        "#from sklearn.feature_extraction.text import CountVectorizer\n",
        "#matrix = CountVectorizer(max_features=1000)\n",
        "#vectors = matrix.fit_transform(texts).toarray()\n",
        "\n",
        "from sklearn.feature_extraction.text import TfidfVectorizer\n",
        "tf = TfidfVectorizer()\n",
        "vectors =  tf.fit_transform(texts)"
      ],
      "execution_count": 6,
      "outputs": []
    },
    {
      "cell_type": "code",
      "metadata": {
        "id": "WTWFQQCMYcY5"
      },
      "source": [
        "from sklearn.model_selection import train_test_split\n",
        "vectors_train, vectors_test, topics_train, topics_test = train_test_split(vectors, topics)\n",
        "\n",
        "from imblearn.over_sampling import ADASYN\n",
        "# Apply the random over-sampling\n",
        "ada = ADASYN(sampling_strategy='minority', random_state=8, n_neighbors=3)\n",
        "X_resampled, y_resampled = ada.fit_resample(vectors_train, topics_train,)"
      ],
      "execution_count": 7,
      "outputs": []
    },
    {
      "cell_type": "code",
      "metadata": {
        "colab": {
          "base_uri": "https://localhost:8080/"
        },
        "id": "4AahQQIFkCcP",
        "outputId": "7f42df75-97d7-4fe3-e9cd-f11b3a3328b2"
      },
      "source": [
        "import xgboost as xgb\n",
        "xg_reg = xgb.XGBClassifier(random_state=1,learning_rate=0.01)\n",
        "\n",
        "xg_reg.fit(X_resampled, y_resampled)\n",
        "\n",
        "topics_pred = xg_reg.predict(vectors_test)\n",
        "\n",
        "from sklearn.metrics import classification_report\n",
        "print(classification_report(topics_test, topics_pred))"
      ],
      "execution_count": null,
      "outputs": [
        {
          "output_type": "stream",
          "name": "stdout",
          "text": [
            "               precision    recall  f1-score   support\n",
            "\n",
            "      Animals       0.80      0.37      0.50       621\n",
            "   Compliment       0.79      0.44      0.57       764\n",
            "    Education       0.63      0.42      0.50       597\n",
            "       Health       0.68      0.25      0.36       672\n",
            "Heavy Emotion       0.18      0.77      0.28       967\n",
            "         Joke       0.58      0.42      0.49       622\n",
            "         Love       0.63      0.37      0.47       852\n",
            "     Politics       0.89      0.44      0.59       514\n",
            "     Religion       0.90      0.41      0.56       864\n",
            "      Science       0.53      0.25      0.34       607\n",
            "         Self       0.49      0.25      0.33       767\n",
            "\n",
            "     accuracy                           0.41      7847\n",
            "    macro avg       0.65      0.40      0.46      7847\n",
            " weighted avg       0.63      0.41      0.45      7847\n",
            "\n"
          ]
        }
      ]
    },
    {
      "cell_type": "code",
      "metadata": {
        "colab": {
          "base_uri": "https://localhost:8080/"
        },
        "id": "VsfFX5q_2sw6",
        "outputId": "72768828-a1d6-453b-a095-d69175db73b0"
      },
      "source": [
        "from sklearn.linear_model import LogisticRegression\n",
        "clf = LogisticRegression(random_state=0).fit(X_resampled, y_resampled)\n",
        "topics_pred = clf.predict(vectors_test)\n",
        "\n",
        "from sklearn.metrics import classification_report\n",
        "print(classification_report(topics_test, topics_pred))"
      ],
      "execution_count": 8,
      "outputs": [
        {
          "output_type": "stream",
          "name": "stdout",
          "text": [
            "               precision    recall  f1-score   support\n",
            "\n",
            "      Animals       0.81      0.69      0.74       723\n",
            "   Compliment       0.73      0.67      0.70       750\n",
            "    Education       0.71      0.60      0.65       634\n",
            "       Health       0.64      0.60      0.62       640\n",
            "Heavy Emotion       0.53      0.58      0.55       895\n",
            "         Joke       0.72      0.65      0.69       600\n",
            "         Love       0.62      0.58      0.60       786\n",
            "     Politics       0.40      0.87      0.54       523\n",
            "     Religion       0.77      0.70      0.73       888\n",
            "      Science       0.60      0.50      0.55       631\n",
            "         Self       0.57      0.49      0.53       777\n",
            "\n",
            "     accuracy                           0.63      7847\n",
            "    macro avg       0.65      0.63      0.63      7847\n",
            " weighted avg       0.65      0.63      0.63      7847\n",
            "\n"
          ]
        },
        {
          "output_type": "stream",
          "name": "stderr",
          "text": [
            "/usr/local/lib/python3.7/dist-packages/sklearn/linear_model/_logistic.py:818: ConvergenceWarning: lbfgs failed to converge (status=1):\n",
            "STOP: TOTAL NO. of ITERATIONS REACHED LIMIT.\n",
            "\n",
            "Increase the number of iterations (max_iter) or scale the data as shown in:\n",
            "    https://scikit-learn.org/stable/modules/preprocessing.html\n",
            "Please also refer to the documentation for alternative solver options:\n",
            "    https://scikit-learn.org/stable/modules/linear_model.html#logistic-regression\n",
            "  extra_warning_msg=_LOGISTIC_SOLVER_CONVERGENCE_MSG,\n"
          ]
        }
      ]
    },
    {
      "cell_type": "code",
      "metadata": {
        "colab": {
          "base_uri": "https://localhost:8080/"
        },
        "id": "WdDFFjN1gPSY",
        "outputId": "76419794-d659-47db-f7ab-082e7a73729a"
      },
      "source": [
        "import joblib\n",
        "# now you can save it to a file\n",
        "joblib.dump(clf, 'model.pkl') "
      ],
      "execution_count": 10,
      "outputs": [
        {
          "output_type": "execute_result",
          "data": {
            "text/plain": [
              "['model.pkl']"
            ]
          },
          "metadata": {},
          "execution_count": 10
        }
      ]
    },
    {
      "cell_type": "code",
      "metadata": {
        "id": "Idn8v_E3YdIG"
      },
      "source": [
        "'''\n",
        "from sklearn.naive_bayes import GaussianNB\n",
        "classifier = GaussianNB()\n",
        "x = vectors_train.todense()\n",
        "classifier.fit(x, topics_train)\n",
        "\n",
        "# Predict with the testing set\n",
        "y = vectors_test.todense()\n",
        "topics_pred = classifier.predict(y)\n",
        "\n",
        "# ...and measure the accuracy of the results\n",
        "from sklearn.metrics import classification_report\n",
        "print(classification_report(topics_test, topics_pred))'''"
      ],
      "execution_count": null,
      "outputs": []
    },
    {
      "cell_type": "code",
      "metadata": {
        "id": "zVEw8uoMYlYV"
      },
      "source": [
        ""
      ],
      "execution_count": null,
      "outputs": []
    }
  ]
}